{
 "cells": [
  {
   "cell_type": "markdown",
   "metadata": {},
   "source": [
    "## Overview\n",
    "\n",
    "After getting our filtered list of UniProt IDs in the `prep_metadata.ipynb` notebook, the next step is download all available structures from [AlphaFold database](https://alphafold.ebi.ac.uk)."
   ]
  },
  {
   "cell_type": "markdown",
   "metadata": {},
   "source": [
    "## Setup\n",
    "Import dependencies."
   ]
  },
  {
   "cell_type": "code",
   "execution_count": null,
   "metadata": {},
   "outputs": [],
   "source": [
    "import os\n",
    "import pandas as pd\n",
    "import sys\n",
    "sys.path.append('../ProteinCartography/')\n",
    "\n",
    "os.chdir('../ProteinCartography')"
   ]
  },
  {
   "cell_type": "markdown",
   "metadata": {},
   "source": [
    "Prepare directory."
   ]
  },
  {
   "cell_type": "code",
   "execution_count": null,
   "metadata": {},
   "outputs": [],
   "source": [
    "mkdir -p Actin/structures"
   ]
  },
  {
   "cell_type": "markdown",
   "metadata": {},
   "source": [
    "## Download AlphaFold structures"
   ]
  },
  {
   "cell_type": "code",
   "execution_count": null,
   "metadata": {},
   "outputs": [],
   "source": [
    "# Read UniProt IDs from the input file\n",
    "input_file_path = 'Actin/prep/features_filter.tsv'\n",
    "\n",
    "if not os.path.isfile(input_file_path):\n",
    "    print(f\"Input file '{input_file_path}' not found.\")\n",
    "    exit(1)\n",
    "\n",
    "with open(input_file_path, \"r\") as file:\n",
    "    uniprot_ids = [line.strip() for line in file]\n",
    "\n",
    "# Define function to fetch AlphaFold structures\n",
    "def get_alphafold_structures(uniprot_id):\n",
    "    model_url = f\"https://alphafold.ebi.ac.uk/files/AF-{uniprot_id}-F1-model_v4.pdb\"\n",
    "    output_file_path = os.path.join('Actin/structures/', f\"{uniprot_id}.pdb\")\n",
    "    os.system(f\"curl {model_url} -o {output_file_path}\")\n",
    "\n",
    "# Iterate over list of UniProt IDs\n",
    "for uniprot_id in uniprot_ids:\n",
    "    get_alphafold_structures(uniprot_id)"
   ]
  }
 ],
 "metadata": {
  "kernelspec": {
   "display_name": "Python 3.9.18 ('cartography': conda)",
   "language": "python",
   "name": "python3"
  },
  "language_info": {
   "codemirror_mode": {
    "name": "ipython",
    "version": 3
   },
   "file_extension": ".py",
   "mimetype": "text/x-python",
   "name": "python",
   "nbconvert_exporter": "python",
   "pygments_lexer": "ipython3",
   "version": "3.9.18"
  },
  "orig_nbformat": 4,
  "vscode": {
   "interpreter": {
    "hash": "c81e7e90311fec3bb63fc53da83ce20f6d0d274b4a9df5872e1f47e77ac8be8c"
   }
  }
 },
 "nbformat": 4,
 "nbformat_minor": 2
}
