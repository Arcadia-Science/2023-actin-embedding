{
 "cells": [
  {
   "cell_type": "markdown",
   "metadata": {},
   "source": [
    "# Overview\n",
    "\n",
    "This notebook is designed to be used alongside the [ProteinCartography pipeline](https://github.com/Arcadia-Science/ProteinCartography) to update the `plot_interactive.py` script to allow for custom overlays.\n"
   ]
  },
  {
   "cell_type": "markdown",
   "metadata": {},
   "source": [
    "## Setup\n",
    "\n",
    "Import dependencies.\n"
   ]
  },
  {
   "cell_type": "code",
   "execution_count": null,
   "metadata": {},
   "outputs": [],
   "source": [
    "import os\n",
    "import pandas as pd\n",
    "import sys\n",
    "import plotly.express as px\n",
    "\n",
    "sys.path.append(\"../ProteinCartography/ProteinCartography/\")\n",
    "from plot_interactive import apply_coordinates, plot_interactive\n",
    "\n",
    "os.chdir(\"../ProteinCartography\")"
   ]
  },
  {
   "cell_type": "markdown",
   "metadata": {},
   "source": [
    "## Combine ProteinCartography results with results from the Actin Prediction pipeline\n",
    "\n",
    "ProteinCartography produces an aggregated features file containing information for plotting as well as the relevant metadata. The Actin Prediction pipeline also produced a summary file. The first thing we need to do is combine these files.\n"
   ]
  },
  {
   "cell_type": "code",
   "execution_count": null,
   "metadata": {},
   "outputs": [],
   "source": [
    "# Renames query column to protid in Actin Prediction results\n",
    "all_outputs_df = pd.read_csv(\"Actin/prep/all_outputs_summarized.tsv\", sep=\"\\t\")\n",
    "all_outputs_df.insert(13, \"protid\", all_outputs_df[\"query\"].values)"
   ]
  },
  {
   "cell_type": "code",
   "execution_count": null,
   "metadata": {},
   "outputs": [],
   "source": [
    "# Merge outputs from each pipeline\n",
    "aggregated_features_df = pd.read_csv(\n",
    "    \"Actin/output/clusteringresults/actin_aggregated_features_pca_umap.tsv\", sep=\"\\t\"\n",
    ")\n",
    "combined_df = aggregated_features_df.merge(all_outputs_df, how=\"outer\", on=\"protid\")\n",
    "\n",
    "# Save file\n",
    "combined_df.to_csv(\"Actin/output/combined_data.tsv\", sep=\"\\t\", index=None)"
   ]
  },
  {
   "cell_type": "markdown",
   "metadata": {},
   "source": [
    "## Create plotting rules\n"
   ]
  },
  {
   "cell_type": "code",
   "execution_count": null,
   "metadata": {},
   "outputs": [],
   "source": [
    "# Define plotting rules\n",
    "plotting_rules = {\n",
    "    \"lon_fraction_matching\": {\n",
    "        \"type\": \"continuous\",\n",
    "        \"color_scale\": \"aggrnyl\",\n",
    "        \"cmin\": 0,\n",
    "        \"cmax\": 1,\n",
    "    },\n",
    "    \"lat_fraction_matching\": {\n",
    "        \"type\": \"continuous\",\n",
    "        \"color_scale\": \"aggrnyl\",\n",
    "        \"cmin\": 0,\n",
    "        \"cmax\": 1,\n",
    "    },\n",
    "    \"atp_fraction_matching\": {\n",
    "        \"type\": \"continuous\",\n",
    "        \"color_scale\": \"aggrnyl\",\n",
    "        \"cmin\": 0,\n",
    "        \"cmax\": 1,\n",
    "    },\n",
    "}"
   ]
  },
  {
   "cell_type": "markdown",
   "metadata": {},
   "source": [
    "## Plotting\n",
    "\n",
    "We created the interactive plot using the `plot_interactive` command from the `plot_interactive.py` script within ProteinCartography.\n"
   ]
  },
  {
   "cell_type": "code",
   "execution_count": null,
   "metadata": {},
   "outputs": [],
   "source": [
    "plot_interactive(\n",
    "    coordinates_file=\"Actin/output/combined_data.tsv\",\n",
    "    plotting_rules=plotting_rules,\n",
    "    output_file=\"Actin/output/featureoverlay.html\",\n",
    "    show=False,\n",
    ")"
   ]
  }
 ],
 "metadata": {
  "kernelspec": {
   "display_name": "Python 3.9.18 ('cartography')",
   "language": "python",
   "name": "python3"
  },
  "language_info": {
   "codemirror_mode": {
    "name": "ipython",
    "version": 3
   },
   "file_extension": ".py",
   "mimetype": "text/x-python",
   "name": "python",
   "nbconvert_exporter": "python",
   "pygments_lexer": "ipython3",
   "version": "3.9.18"
  },
  "orig_nbformat": 4,
  "vscode": {
   "interpreter": {
    "hash": "c81e7e90311fec3bb63fc53da83ce20f6d0d274b4a9df5872e1f47e77ac8be8c"
   }
  }
 },
 "nbformat": 4,
 "nbformat_minor": 2
}
