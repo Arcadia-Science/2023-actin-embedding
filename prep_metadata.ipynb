{
 "cells": [
  {
   "cell_type": "markdown",
   "id": "cb66e04c",
   "metadata": {},
   "source": [
    "# Overview\n",
    "\n",
    "This notebook was used to prepare the Uniprot `features_file.tsv` to use for Cluster Mode of the ProteinCartography pipeline.\n",
    "\n",
    "In order to use this notebook, you must have ProteinCartography installed and activate the `cartography` conda env. To use this notebook, clone the [ProteinCartography GitHub repository](https://github.com/Arcadia-Science/ProteinCartography).\n",
    "\n",
    "The original list of actins was generated in our [Defining Actin](https://research.arcadiascience.com/pub/idea-defining-actin/release/4?readingCollection=9a516d32) pub and the corresponding [Actin Prediction](https://github.com/Arcadia-Science/2022-actin-prediction) pipeline, where we did a protein BLAST search for 50,000 matches to [human beta-actin](https://www.uniprot.org/uniprotkb/P60709/entry). The list can be found in this [Zenodo archive](https://zenodo.org/records/7384393).\n"
   ]
  },
  {
   "cell_type": "markdown",
   "id": "d627755d",
   "metadata": {},
   "source": [
    "## Setup\n",
    "\n",
    "Import dependencies.\n"
   ]
  },
  {
   "cell_type": "code",
   "execution_count": 16,
   "id": "9e2e5aca-1954-4264-b2d2-05c2d0fdd72f",
   "metadata": {},
   "outputs": [],
   "source": [
    "import os\n",
    "import pandas as pd\n",
    "import sys\n",
    "\n",
    "sys.path.append(\"../ProteinCartography/\")\n",
    "\n",
    "os.chdir(\"../ProteinCartography\")"
   ]
  },
  {
   "cell_type": "markdown",
   "id": "74773f27",
   "metadata": {},
   "source": [
    "Prepare directories. Once these are prepared, place the 2022-actin-prediction-blasoutputs.txt files in the `~/Actin/prep` folder.\n"
   ]
  },
  {
   "cell_type": "code",
   "execution_count": 25,
   "id": "2c7c84f0",
   "metadata": {},
   "outputs": [],
   "source": [
    "mkdir -p {Actin/prep,Actin/output}"
   ]
  },
  {
   "cell_type": "markdown",
   "id": "f5a6e7d3",
   "metadata": {},
   "source": [
    "## Map Refseq IDs\n",
    "\n",
    "The output of BLAST is a list of Refseq IDs, but ProteinCartography and the AlphaFold database reference proteins based on their Accessions/UniProt IDs. This step converts Refseq IDs to Accessions/UniProt IDs and then uses them to download the required metadata file. Note that I split this into 2 batches as the single batch was too large and continually failed.\n"
   ]
  },
  {
   "cell_type": "code",
   "execution_count": null,
   "id": "527671f6",
   "metadata": {},
   "outputs": [],
   "source": [
    "# Map Refseq IDs to UniProt IDs\n",
    "\n",
    "# Batch 1\n",
    "map_refseqids = \"ProteinCartography/map_refseqids.py\"\n",
    "os.system(\n",
    "    f\"python ProteinCartography/map_refseqids.py -i Actin/prep/2022-actin-prediction-blastoutputs1.txt -o Actin/prep/blastoutput_uniprot1.txt \"\n",
    ")\n",
    "\n",
    "# Batch 2\n",
    "map_refseqids = \"ProteinCartography/map_refseqids.py\"\n",
    "os.system(\n",
    "    f\"python ProteinCartography/map_refseqids.py -i Actin/prep/2022-actin-prediction-blastoutputs2.txt -o Actin/prep/blastoutput_uniprot2.txt\"\n",
    ")"
   ]
  },
  {
   "cell_type": "markdown",
   "id": "b7e31249",
   "metadata": {},
   "source": [
    "## Download UniProt metadata\n",
    "\n",
    "After obtaining UniProt IDs, we use them to download metadata from UniProt. This data will be the bulk of the UniProt features file.\n"
   ]
  },
  {
   "cell_type": "code",
   "execution_count": null,
   "id": "fae17cdd",
   "metadata": {},
   "outputs": [],
   "source": [
    "# Batch 1\n",
    "fetch_uniprot_metadata = \"ProteinCartography/fetch_uniprot_metadata.py\"\n",
    "os.system(\n",
    "    f\"python ProteinCartography/fetch_uniprot_metadata.py -i Actin/prep/blastoutput_uniprot1.txt -o Actin/prep/uniprot_features1.tsv\"\n",
    ")\n",
    "\n",
    "# Batch 2\n",
    "fetch_uniprot_metadata = \"ProteinCartography/fetch_uniprot_metadata.py\"\n",
    "os.system(\n",
    "    f\"python ProteinCartography/fetch_uniprot_metadata.py -i Actin/prep/blastoutput_uniprot2.txt -o Actin/prep/uniprot_features2.tsv\"\n",
    ")"
   ]
  },
  {
   "cell_type": "code",
   "execution_count": null,
   "id": "9100365e",
   "metadata": {},
   "outputs": [],
   "source": [
    "# Merge batched files\n",
    "uf1 = pd.read_csv(\"Actin/prep/uniprot_features1.tsv\", sep=\"\\t\")\n",
    "uf2 = pd.read_csv(\"Actin/prep/uniprot_features2.tsv\", sep=\"\\t\")\n",
    "uf1 = uf1.drop_duplicates(subset=\"protid\", keep=\"first\")\n",
    "uf2 = uf2.drop_duplicates(subset=\"protid\", keep=\"first\")\n",
    "ufc = uf1.merge(uf2, how=\"outer\")\n",
    "\n",
    "# Save uniprot_features file\n",
    "ufc.to_csv(\"Actin/prep/uniprot_features_combined.tsv\", sep=\"\\t\", index=None)"
   ]
  },
  {
   "cell_type": "markdown",
   "id": "ffaf106b",
   "metadata": {},
   "source": [
    "## Filter UniProt hits\n",
    "\n",
    "We filtered UniProt hits based on fragment status and whether or not the UniProt entry was active using the `filter_uniprot_hits.py` script from [ProteinCartography](https://github.com/Arcadia-Science/ProteinCartography).\n"
   ]
  },
  {
   "cell_type": "code",
   "execution_count": 9,
   "id": "7dfade35",
   "metadata": {},
   "outputs": [
    {
     "data": {
      "text/plain": [
       "0"
      ]
     },
     "execution_count": 9,
     "metadata": {},
     "output_type": "execute_result"
    }
   ],
   "source": [
    "filter_uniprot_hits = \"ProteinCartography/filter_uniprot_hits.py\"\n",
    "os.system(\n",
    "    f\"python ProteinCartography/filter_uniprot_hits.py -i Actin/prep/uniprot_features_combined.tsv -o Actin/prep/features_filter.tsv\"\n",
    ")"
   ]
  },
  {
   "cell_type": "code",
   "execution_count": 80,
   "id": "47328a73",
   "metadata": {},
   "outputs": [],
   "source": [
    "# Renames first column to protid\n",
    "ff2 = pd.read_csv(\"Actin/prep/features_filter.tsv\", sep=\"\\t\", header=None)\n",
    "ff2.columns = [\"protid\"]\n",
    "\n",
    "# Save uniprot_features file\n",
    "ff2.to_csv(\"Actin/prep/features_filter.tsv\", sep=\"\\t\", index=None)"
   ]
  },
  {
   "cell_type": "code",
   "execution_count": 81,
   "id": "431adb9f",
   "metadata": {},
   "outputs": [],
   "source": [
    "# Apply filter\n",
    "ufc = pd.read_csv(\"Actin/prep/uniprot_features_combined.tsv\", sep=\"\\t\")\n",
    "ff = pd.read_csv(\"Actin/prep/features_filter.tsv\", sep=\"\\t\")\n",
    "uff = ufc.merge(ff, on=\"protid\", how=\"inner\")\n",
    "\n",
    "# Save uniprot_features file\n",
    "uff.to_csv(\"Actin/prep/uniprot_features_filtered.tsv\", sep=\"\\t\", index=None)"
   ]
  },
  {
   "cell_type": "markdown",
   "id": "cbc39c53",
   "metadata": {},
   "source": [
    "## Reformat features file\n",
    "\n",
    "The features file from UniProt must be reformatted slightly to work well with ProteinCartography. We reformatted the file to fit with guidelines listed [here](https://github.com/Arcadia-Science/ProteinCartography#feature-file-main-columns).\n"
   ]
  },
  {
   "cell_type": "code",
   "execution_count": null,
   "id": "dd69b425-8b2c-45d0-a5f6-2b44c2cc34bd",
   "metadata": {},
   "outputs": [],
   "source": [
    "# Read in raw features file\n",
    "\n",
    "uff = pd.read_csv(\"Actin/prep/uniprot_features_filtered.tsv\", sep=\"\\t\")\n",
    "\n",
    "# Reformat lineage column\n",
    "\n",
    "lineage_string_splitter = lambda lineage_string: [\n",
    "    rank.split(\" (\")[0] for rank in lineage_string.split(\", \")\n",
    "]\n",
    "\n",
    "uff[\"Lineage\"] = uff[\"Taxonomic lineage\"].apply(lineage_string_splitter)\n",
    "\n",
    "# Saves updated uniprot_features file\n",
    "\n",
    "uff.to_csv(\"Actin/output/uniprot_features.tsv\", sep=\"\\t\", index=None)"
   ]
  }
 ],
 "metadata": {
  "kernelspec": {
   "display_name": "Python 3.9.18 ('cartography': conda)",
   "language": "python",
   "name": "python3"
  },
  "language_info": {
   "codemirror_mode": {
    "name": "ipython",
    "version": 3
   },
   "file_extension": ".py",
   "mimetype": "text/x-python",
   "name": "python",
   "nbconvert_exporter": "python",
   "pygments_lexer": "ipython3",
   "version": "3.9.18"
  },
  "vscode": {
   "interpreter": {
    "hash": "c81e7e90311fec3bb63fc53da83ce20f6d0d274b4a9df5872e1f47e77ac8be8c"
   }
  }
 },
 "nbformat": 4,
 "nbformat_minor": 5
}
