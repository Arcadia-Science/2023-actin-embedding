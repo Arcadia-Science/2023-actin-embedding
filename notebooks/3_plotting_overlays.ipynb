{
 "cells": [
  {
   "cell_type": "markdown",
   "metadata": {},
   "source": [
    "# Overview\n",
    "\n",
    "This notebook is designed to be used alongside the [ProteinCartography pipeline](https://github.com/Arcadia-Science/ProteinCartography) to update the `plot_interactive.py` script to allow for custom overlays.\n",
    "\n",
    "Once the `ProteinCartography` analysis has been completed and the resulting files are in the `ProteinCartography/output` folder, move back to the  `2023-actin-embedding` folder and to run this notebook to create custom plotting overlays.\n"
   ]
  },
  {
   "cell_type": "markdown",
   "metadata": {},
   "source": [
    "## Setup\n",
    "\n",
    "Import dependencies.\n"
   ]
  },
  {
   "cell_type": "code",
   "execution_count": null,
   "metadata": {},
   "outputs": [],
   "source": [
    "import os\n",
    "import pandas as pd\n",
    "import sys\n",
    "import plotly.express as px\n",
    "import arcadia_pycolor as apc\n",
    "\n",
    "sys.path.append(\"./../../ProteinCartography/ProteinCartography/\")\n",
    "from plot_interactive import (\n",
    "    apply_coordinates,\n",
    "    plot_interactive,\n",
    "    generate_plotting_rules,\n",
    ")\n"
   ]
  },
  {
   "cell_type": "markdown",
   "metadata": {},
   "source": [
    "## Combine ProteinCartography results with results from the Actin Prediction pipeline\n",
    "\n",
    "ProteinCartography produces an aggregated features file containing information for plotting as well as the relevant metadata. The Actin Prediction pipeline also produced a summary file. The first thing we need to do is combine these files.\n"
   ]
  },
  {
   "cell_type": "code",
   "execution_count": null,
   "metadata": {},
   "outputs": [],
   "source": [
    "# Renames query column to protid in Actin Prediction results\n",
    "all_outputs = pd.read_csv(\"../input/all_outputs_summarized.tsv\", sep=\"\\t\")\n",
    "all_outputs.insert(13, \"protid\", all_outputs[\"query\"].values)"
   ]
  },
  {
   "cell_type": "code",
   "execution_count": null,
   "metadata": {},
   "outputs": [],
   "source": [
    "# Merge outputs from each pipeline\n",
    "aggregated_features = pd.read_csv(\n",
    "    \"../../ProteinCartography/Actin/output/clusteringresults/actin_aggregated_features_pca_umap.tsv\",\n",
    "    sep=\"\\t\",\n",
    ")\n",
    "combined_aggregated_features = aggregated_features.merge(\n",
    "    all_outputs, how=\"outer\", on=\"protid\"\n",
    ")\n",
    "\n",
    "# Save file\n",
    "combined_aggregated_features.to_csv(\"../output/combined_data.tsv\", sep=\"\\t\", index=None)\n",
    "\n",
    "display(combined_aggregated_features)\n"
   ]
  },
  {
   "cell_type": "markdown",
   "metadata": {},
   "source": [
    "## Create plotting rules\n"
   ]
  },
  {
   "cell_type": "code",
   "execution_count": null,
   "metadata": {},
   "outputs": [],
   "source": [
    "# Standard Arcadia plotting colors\n",
    "\n",
    "arcadia_viridis = apc.Gradients[\"arcadia:viridis\"].grad_nested_list\n",
    "arcadia_viridis_r = apc.Gradients[\"arcadia:viridis_r\"].grad_nested_list\n",
    "\n",
    "arcadia_magma = apc.Gradients[\"arcadia:magma\"].grad_nested_list\n",
    "arcadia_magma_r = apc.Gradients[\"arcadia:magma_r\"].grad_nested_list\n",
    "\n",
    "arcadia_cividis = apc.Gradients[\"arcadia:cividis\"].grad_nested_list\n",
    "arcadia_cividis_r = apc.Gradients[\"arcadia:cividis_r\"].grad_nested_list\n",
    "\n",
    "arcadia_poppies = apc.Gradients[\"arcadia:poppies\"].grad_nested_list\n",
    "arcadia_poppies_r = apc.Gradients[\"arcadia:poppies_r\"].grad_nested_list\n",
    "\n",
    "arcadia_pansies = apc.Gradients[\"arcadia:pansies\"].grad_nested_list\n",
    "arcadia_pansies_r = apc.Gradients[\"arcadia:pansies_r\"].grad_nested_list\n",
    "\n",
    "arcadia_dahlias = apc.Gradients[\"arcadia:dahlias\"].grad_nested_list\n",
    "arcadia_dahlias_r = apc.Gradients[\"arcadia:dahlias_r\"].grad_nested_list\n",
    "\n",
    "arcadia_blues = apc.Gradients['arcadia:aegeans'].grad_nested_list\n",
    "arcadia_reds = apc.Gradients['arcadia:reds_r'].grad_nested_list\n",
    "arcadia_yellows = apc.Gradients['arcadia:yellows_r'].grad_nested_list\n"
   ]
  },
  {
   "cell_type": "code",
   "execution_count": null,
   "metadata": {},
   "outputs": [],
   "source": [
    "# Set up annotation colors\n",
    "from arcadia_pycolor import adjust_lightness\n",
    "\n",
    "annotation_colors = {\n",
    "    \"LC00\": apc.All[\"arcadia:aster\"],  # actin\n",
    "    \"LC01\": adjust_lightness(apc.All[\"arcadia:aster\"], 0.9),  # actin\n",
    "    \"LC02\": adjust_lightness(apc.All[\"arcadia:aster\"], 1.1),  # actin\n",
    "    \"LC03\": adjust_lightness(apc.All[\"arcadia:aster\"], 1.2),  # actin\n",
    "    \"LC04\": apc.All[\"arcadia:aegean\"],  # ARP4\n",
    "    \"LC05\": adjust_lightness(apc.All[\"arcadia:aster\"], 1.3),  # actin\n",
    "    \"LC06\": apc.All[\"arcadia:canary\"],  # ARP7\n",
    "    \"LC07\": apc.All[\"arcadia:mars\"],  # ARP2\n",
    "    \"LC08\": adjust_lightness(apc.All[\"arcadia:canary\"], 1.2),  # ARP7\n",
    "    \"LC09\": adjust_lightness(apc.All[\"arcadia:mars\"], 1.1),  # ARP2\n",
    "    \"LC10\": apc.All[\"arcadia:brightgrey\"],  # ARP6\n",
    "    \"LC11\": apc.All[\"arcadia:mint\"],  # ARP3\n",
    "    \"LC12\": adjust_lightness(apc.All[\"arcadia:mint\"], 1.1),  # ARP3\n",
    "    \"LC13\": adjust_lightness(apc.All[\"arcadia:aegean\"], 1.15),  # ARP4\n",
    "    \"LC14\": apc.All[\"arcadia:rose\"],  # actin-like\n",
    "    \"LC15\": adjust_lightness(apc.All[\"arcadia:brightgrey\"], 0.9),  # ARP6\n",
    "    \"LC16\": adjust_lightness(apc.All[\"arcadia:aster\"], 1.4),  # actin\n",
    "    \"LC17\": adjust_lightness(apc.All[\"arcadia:mint\"], 0.9),  # ARP3\n",
    "    \"LC18\": adjust_lightness(apc.All[\"arcadia:aster\"], 1.5),  # actin\n",
    "    \"LC19\": apc.All[\"arcadia:lime\"],  # ARP1\n",
    "    \"LC20\": adjust_lightness(apc.All[\"arcadia:mars\"], 0.9),  # ARP2\n",
    "    \"LC21\": adjust_lightness(apc.All[\"arcadia:mint\"], 0.85),  # ARP3\n",
    "    \"LC22\": adjust_lightness(apc.All[\"arcadia:seaweed\"], 0.9),  # ARP6\n",
    "    \"\": apc.All[\"arcadia:seaweed\"],\n",
    "}\n"
   ]
  },
  {
   "cell_type": "code",
   "execution_count": null,
   "metadata": {},
   "outputs": [],
   "source": [
    "# Import plotting rules\n",
    "plotting_rules = generate_plotting_rules(\n",
    "    taxon_focus=\"euk\", keyids=[\"P60709\"], version=\"current\"\n",
    ")\n"
   ]
  },
  {
   "cell_type": "code",
   "execution_count": null,
   "metadata": {},
   "outputs": [],
   "source": [
    "# Define plotting rules\n",
    "custom_plotting_rules = {\n",
    "    \"lon_fraction_matching\": {\n",
    "        \"type\": \"continuous\",\n",
    "        \"color_scale\": arcadia_blues,\n",
    "        \"cmin\": 0,\n",
    "        \"cmax\": 1,\n",
    "        \"textlabel\": \"Longitudinal contact conservation\",\n",
    "    },\n",
    "    \"lat_fraction_matching\": {\n",
    "        \"type\": \"continuous\",\n",
    "        \"color_scale\": arcadia_reds,\n",
    "        \"cmin\": 0,\n",
    "        \"cmax\": 1,\n",
    "        \"textlabel\": \"Lateral contact conservation\",\n",
    "    },\n",
    "    \"atp_fraction_matching\": {\n",
    "        \"type\": \"continuous\",\n",
    "        \"color_scale\": arcadia_yellows,\n",
    "        \"cmin\": 0,\n",
    "        \"cmax\": 1,\n",
    "        \"textlabel\": \"ATP contact conservation\",\n",
    "    },\n",
    "    \"w_avg_contacts\": {\n",
    "        \"type\": \"continuous\",\n",
    "        \"color_scale\": arcadia_viridis,\n",
    "        \"cmin\": 0,\n",
    "        \"cmax\": 1,\n",
    "        \"textlabel\": \"Total polymerization conservation\",\n",
    "    },\n",
    "    \"LeidenCluster\": {\n",
    "        \"type\": \"categorical\",\n",
    "        \"color_dict\": annotation_colors,\n",
    "        \"apply\": lambda x: str(x),\n",
    "        \"textlabel\": \"Top Annotation\",\n",
    "        \"fillna\": \"\",\n",
    "    },\n",
    "}\n"
   ]
  },
  {
   "cell_type": "code",
   "execution_count": null,
   "metadata": {},
   "outputs": [],
   "source": [
    "# Merge plotting rules\n",
    "combined_plotting_rules = plotting_rules | custom_plotting_rules\n",
    "combined_plotting_rules"
   ]
  },
  {
   "cell_type": "markdown",
   "metadata": {},
   "source": [
    "## Plotting\n",
    "\n",
    "We created the interactive plot using the `plot_interactive` command from the `plot_interactive.py` script within ProteinCartography.\n"
   ]
  },
  {
   "cell_type": "code",
   "execution_count": null,
   "metadata": {},
   "outputs": [],
   "source": [
    "plot_interactive(\n",
    "    coordinates_file=\"../output/combined_data.tsv\",\n",
    "    plotting_rules=combined_plotting_rules,\n",
    "    output_file=\"../output/aggregated_maps.html\",\n",
    "    keyids=[\"P60709\"],\n",
    "    plot_width = 700,\n",
    "    plot_height = 750,\n",
    "    show=False,\n",
    ")"
   ]
  }
 ],
 "metadata": {
  "kernelspec": {
   "display_name": "Python 3.9.18 ('cartography')",
   "language": "python",
   "name": "python3"
  },
  "language_info": {
   "codemirror_mode": {
    "name": "ipython",
    "version": 3
   },
   "file_extension": ".py",
   "mimetype": "text/x-python",
   "name": "python",
   "nbconvert_exporter": "python",
   "pygments_lexer": "ipython3",
   "version": "3.9.18"
  },
  "orig_nbformat": 4,
  "vscode": {
   "interpreter": {
    "hash": "c81e7e90311fec3bb63fc53da83ce20f6d0d274b4a9df5872e1f47e77ac8be8c"
   }
  }
 },
 "nbformat": 4,
 "nbformat_minor": 2
}
