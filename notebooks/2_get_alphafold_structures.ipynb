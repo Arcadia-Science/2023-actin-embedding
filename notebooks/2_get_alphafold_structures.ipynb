{
 "cells": [
  {
   "cell_type": "markdown",
   "metadata": {},
   "source": [
    "## Overview\n",
    "\n",
    "After getting our filtered list of UniProt IDs in the `1_prep_metadata.ipynb` notebook, the next step is download all available structures from [AlphaFold database](https://alphafold.ebi.ac.uk). You should again run this notebook from the `2023-actin-embedding/notebooks` folder using the `2023-actin-embedding` environment.\n"
   ]
  },
  {
   "cell_type": "markdown",
   "metadata": {},
   "source": [
    "## Setup\n",
    "First make sure you are in the correct directory `2023-actin-embedding/notebooks` and that you have the correct conda environment activated by running: \n",
    "``` \n",
    "conda activate 2023-actin-embedding\n",
    "```\n",
    "\n",
    "Import dependencies.\n"
   ]
  },
  {
   "cell_type": "code",
   "execution_count": 1,
   "metadata": {},
   "outputs": [],
   "source": [
    "import os\n",
    "import pandas as pd\n",
    "import sys\n",
    "\n",
    "sys.path.append(\"./../../ProteinCartography/\")\n",
    "PC_path = \"./../../ProteinCartography/ProteinCartography\""
   ]
  },
  {
   "cell_type": "markdown",
   "metadata": {},
   "source": [
    "Prepare directory.\n"
   ]
  },
  {
   "cell_type": "code",
   "execution_count": 2,
   "metadata": {},
   "outputs": [],
   "source": [
    "os.makedirs(\"./../../ProteinCartography/Actin/structures\", exist_ok=True)"
   ]
  },
  {
   "cell_type": "markdown",
   "metadata": {},
   "source": [
    "## Download AlphaFold structures\n"
   ]
  },
  {
   "cell_type": "code",
   "execution_count": 2,
   "metadata": {},
   "outputs": [
    {
     "name": "stderr",
     "output_type": "stream",
     "text": [
      "Downloading PDBs from AlphaFold:   2%|▏         | 403/18905 [00:03<03:00, 102.72it/s]\n"
     ]
    }
   ],
   "source": [
    "download_pdbs = os.path.join(PC_path, \"download_pdbs.py\")\n",
    "input = \"../input/features_filter.tsv\"\n",
    "output = \"./../../ProteinCartography/actin/structures/\"\n",
    "\n",
    "\n",
    "# Batch 1\n",
    "os.system(\n",
    "    f\"python {download_pdbs} -i {input} -o {output}\"\n",
    ")"
   ]
  }
 ],
 "metadata": {
  "kernelspec": {
   "display_name": "Python 3.9.18 ('2023-actin')",
   "language": "python",
   "name": "python3"
  },
  "language_info": {
   "codemirror_mode": {
    "name": "ipython",
    "version": 3
   },
   "file_extension": ".py",
   "mimetype": "text/x-python",
   "name": "python",
   "nbconvert_exporter": "python",
   "pygments_lexer": "ipython3",
   "version": "3.9.18"
  },
  "orig_nbformat": 4,
  "vscode": {
   "interpreter": {
    "hash": "5b7a315fe08ff0b168d16f2611f571320d2d7703d2c71b188b7ecb60dc0e34fe"
   }
  }
 },
 "nbformat": 4,
 "nbformat_minor": 2
}
