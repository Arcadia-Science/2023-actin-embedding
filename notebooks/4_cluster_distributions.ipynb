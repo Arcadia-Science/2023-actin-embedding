{
 "cells": [
  {
   "cell_type": "markdown",
   "metadata": {},
   "source": [
    "# Overview\n",
    "\n",
    "This notebook is designed to be used alongside the [ProteinCartography pipeline](https://github.com/Arcadia-Science/ProteinCartography) to update the `plot_interactive.py` script to allow for custom overlays.\n",
    "\n",
    "Once the `ProteinCartography` analysis has been completed and the resulting files are in the `ProteinCartography/output` folder, move back to the  `2023-actin-embedding/notebooks` folder and to run this notebook to create custom plotting overlays. You should use the `2023-actin-embedding` environment."
   ]
  },
  {
   "cell_type": "markdown",
   "metadata": {},
   "source": [
    "## 0. Import"
   ]
  },
  {
   "cell_type": "code",
   "execution_count": null,
   "metadata": {},
   "outputs": [],
   "source": [
    "import pandas as pd\n",
    "import matplotlib.pyplot as plt\n",
    "import arcadia_pycolor as apc\n",
    "from arcadia_pycolor import adjust_lightness\n",
    "from pathlib import Path\n",
    "import numpy as np\n",
    "import scipy.stats as stat\n",
    "\n",
    "apc.mpl_setup()"
   ]
  },
  {
   "cell_type": "markdown",
   "metadata": {},
   "source": [
    "## 1. Load Data"
   ]
  },
  {
   "cell_type": "code",
   "execution_count": null,
   "metadata": {},
   "outputs": [],
   "source": [
    "output_path = Path('../output/')\n",
    "combined_data = output_path / 'combined_data.tsv'\n",
    "\n",
    "combined_data_df = pd.read_csv(combined_data, sep = '\\t')\n",
    "display(combined_data_df)"
   ]
  },
  {
   "cell_type": "markdown",
   "metadata": {},
   "source": [
    "## 2. Extract relevant columns"
   ]
  },
  {
   "cell_type": "code",
   "execution_count": null,
   "metadata": {},
   "outputs": [],
   "source": [
    "list_cols = ['pdb_confidence', 'Length', 'avg_fid', 'lon_fraction_matching', 'lat_fraction_matching', 'atp_fraction_matching', \"w_avg_contacts\"]\n",
    "\n",
    "agg_lambda_func = {col: (list if col in list_cols else 'first') for col in combined_data_df.columns }\n",
    "\n",
    "grouped = combined_data_df.groupby('LeidenCluster').agg(list)"
   ]
  },
  {
   "cell_type": "markdown",
   "metadata": {},
   "source": [
    "## 3. Define custom functions for plotting"
   ]
  },
  {
   "cell_type": "code",
   "execution_count": null,
   "metadata": {},
   "outputs": [],
   "source": [
    "distribution_dict = {}\n",
    "\n",
    "def sanitize_nested_list(nested_list):\n",
    "    sanitized_list = []  # Step 1: Initialize an empty list\n",
    "    for item in nested_list:  # Step 2: Iterate through the given list\n",
    "        if isinstance(item, list):  # Step 3: Check if the item is a list\n",
    "            sanitized_sublist = sanitize_nested_list(item)  # Recursive call\n",
    "            sanitized_list.append(sanitized_sublist)\n",
    "        elif not pd.isna(item):  # Check if the item is 'NA' or 'na'\n",
    "            sanitized_list.append(item)  # Append item to the sanitized list\n",
    "    return sanitized_list  # Step 4: Return the sanitized list\n",
    "\n",
    "for col in list_cols:\n",
    "    distribution_dict[col] = dict(grouped[col])\n",
    "    for item in distribution_dict[col]:\n",
    "        distribution_dict[col][item] = sanitize_nested_list(distribution_dict[col][item])\n",
    "\n",
    "def distribution_test(distribution_dict: dict, column: str, data1_keys: list, data2_keys = [], method = 'MWU', *args, **kwargs):\n",
    "    data_dict = distribution_dict[column]\n",
    "\n",
    "    data1 = []\n",
    "\n",
    "    for key in data1_keys:\n",
    "        data1.extend(data_dict[key])\n",
    "    \n",
    "    data2 = []\n",
    "\n",
    "    if data2_keys == []:\n",
    "        data2_keys = [key for key in data_dict.keys() if key not in data1_keys]\n",
    "\n",
    "    for key in data2_keys:\n",
    "        data2.extend(data_dict[key])\n",
    "\n",
    "    if method == 'MWU':\n",
    "        method_fxn = stat.mannwhitneyu\n",
    "    elif method == 'KS2S':\n",
    "        method_fxn = stat.ks_2samp\n",
    "    \n",
    "    return method_fxn(data1, data2, *args, **kwargs)"
   ]
  },
  {
   "cell_type": "markdown",
   "metadata": {},
   "source": [
    "## 4. Plot distributions and test statistics\n",
    "\n",
    "Grey down arrow is significantly different than & median less than LC05; black up arrow is signficantly different and median greater than LC05.\n",
    "Colored dot is not significantly different to LC05.\n",
    "Significance threshold is padj < 0.001.\n"
   ]
  },
  {
   "cell_type": "code",
   "execution_count": null,
   "metadata": {},
   "outputs": [],
   "source": [
    "plotting_rules = {\n",
    "    'Length': {\n",
    "        'textlabel': 'Length',\n",
    "        'facecolor': apc.All['arcadia:oat'],\n",
    "        'edgecolor': apc.All['arcadia:canary']\n",
    "    },\n",
    "    'pdb_confidence': {\n",
    "        'textlabel': 'Mean pLDDT',\n",
    "        'facecolor': apc.All['arcadia:bluesky'],\n",
    "        'edgecolor': apc.All['arcadia:aegean']\n",
    "    }, \n",
    "    'avg_fid': {\n",
    "        'textlabel': 'fraction seqid to input',\n",
    "        'facecolor': apc.adjust_lightness(apc.All['arcadia:rose'], 1.2),\n",
    "        'edgecolor': apc.All['arcadia:rose']\n",
    "    }, \n",
    "    'lon_fraction_matching': {\n",
    "        'textlabel': 'Longitudinal contact\\nconservation',\n",
    "        'facecolor': apc.adjust_lightness(apc.All['arcadia:lime'], 1.4),\n",
    "        'edgecolor': apc.adjust_lightness(apc.All['arcadia:lime'], 0.8),\n",
    "    }, \n",
    "    'lat_fraction_matching': {\n",
    "        'textlabel': 'Lateral contact\\nconservation',\n",
    "        'facecolor': apc.adjust_lightness(apc.All['arcadia:tangerine'], 1.1),\n",
    "        'edgecolor': apc.adjust_lightness(apc.All['arcadia:tangerine'], 0.7)\n",
    "    }, \n",
    "    'atp_fraction_matching': {\n",
    "        'textlabel': 'ATP contact\\nconservation',\n",
    "        'facecolor': apc.All['arcadia:wish'],\n",
    "        'edgecolor': apc.All['arcadia:aster']\n",
    "    },\n",
    "    \"w_avg_contacts\": {\n",
    "        \"textlabel\": \"Total polymerization\\nconservation\",\n",
    "        'facecolor': apc.adjust_lightness(apc.All['arcadia:mars'], 1.2),\n",
    "        'edgecolor': apc.All['arcadia:dragon']\n",
    "    },\n",
    "}\n",
    "\n",
    "#canonical_actin_clus = [\"LC00\", \"LC01\", \"LC02\", \"LC05\", \"LC16\"]\n",
    "canonical_actin_clus = [\"LC05\"]\n",
    "\n",
    "stat_results_dict = {}\n",
    "threshold_pvalue = 0.001\n",
    "\n",
    "for col in distribution_dict:\n",
    "    dummy_dict = {}\n",
    "    for clu in distribution_dict[col]:\n",
    "        dummy_dict[clu] = distribution_test(distribution_dict, col, [clu], canonical_actin_clus)\n",
    "    stat_results_dict[col] = dummy_dict\n",
    "\n",
    "corrected_stat_results_dict = {}\n",
    "\n",
    "for col in stat_results_dict:\n",
    "    pvals = [stat_results_dict[col][clu].pvalue for clu in stat_results_dict[col]]\n",
    "    corrected_pvals = stat.false_discovery_control(pvals)\n",
    "    corrected_stat_results_dict[col] = {clu: corrected_pvals[i] for i, clu in enumerate(stat_results_dict[col].keys())}\n",
    "\n",
    "fig, axs = plt.subplots(\n",
    "    nrows = 1, \n",
    "    ncols = len(list_cols), \n",
    "    figsize = (2.2 * len(list_cols), 10),\n",
    "    )\n",
    "\n",
    "for i, ax in enumerate(axs):\n",
    "    col = list_cols[i]\n",
    "    values = list(distribution_dict[col].values())\n",
    "\n",
    "    canonical_actin_clus_dist = []\n",
    "    for actin_clu in canonical_actin_clus:\n",
    "        canonical_actin_clus_dist.extend(distribution_dict[col][actin_clu])\n",
    "    canonical_actin_clus_median = np.median(canonical_actin_clus_dist)\n",
    "\n",
    "    values.append(canonical_actin_clus_dist)\n",
    "    medians_dict = {clu: np.median(values) for clu, values in distribution_dict[col].items()}\n",
    "    parts = ax.violinplot(values, vert = False, showextrema = False, widths = 0.8)\n",
    "    for pc in parts['bodies']:\n",
    "        pc.set_facecolor(plotting_rules[col]['facecolor'])\n",
    "        pc.set_edgecolor(plotting_rules[col]['edgecolor'])\n",
    "        pc.set_linewidths(1)\n",
    "        pc.set_alpha(0.8)\n",
    "    \n",
    "    for j, (clu, median) in enumerate(medians_dict.items()):\n",
    "\n",
    "        if corrected_stat_results_dict[col][clu] > threshold_pvalue:\n",
    "            marker = \".\"\n",
    "            color = plotting_rules[col]['edgecolor']\n",
    "\n",
    "        elif median < canonical_actin_clus_median:\n",
    "            marker = \"v\"\n",
    "            color = apc.All['arcadia:marineblue']\n",
    "\n",
    "        elif median > canonical_actin_clus_median:\n",
    "            marker = \"^\"\n",
    "            color = apc.All['arcadia:crow']\n",
    "\n",
    "        ax.scatter(median, j + 1, marker = marker, color = color, s = 80)\n",
    "\n",
    "    ax.set_xlabel(plotting_rules[col]['textlabel'])\n",
    "\n",
    "    if i == 0:\n",
    "        ax.set_yticks(range(1, len(distribution_dict[col].keys()) + 2) , list(distribution_dict[col].keys()) + ['input (LC05)'])\n",
    "    else:\n",
    "        ax.set_yticks([])\n",
    "    ax.set_ylim((0.25, len(distribution_dict[col].keys()) + 1.75))\n",
    "    \n",
    "plt.subplots_adjust(wspace = 0.1)\n",
    "plt.tight_layout()\n",
    "\n",
    "plt.savefig(\"../output/actin_cluster_distributions_vs_LC05.svg\", bbox_inches = \"tight\")\n"
   ]
  }
 ],
 "metadata": {
  "kernelspec": {
   "display_name": "Python 3.9.18 ('2023-actin')",
   "language": "python",
   "name": "python3"
  },
  "language_info": {
   "codemirror_mode": {
    "name": "ipython",
    "version": 3
   },
   "file_extension": ".py",
   "mimetype": "text/x-python",
   "name": "python",
   "nbconvert_exporter": "python",
   "pygments_lexer": "ipython3",
   "version": "3.9.18"
  },
  "vscode": {
   "interpreter": {
    "hash": "5b7a315fe08ff0b168d16f2611f571320d2d7703d2c71b188b7ecb60dc0e34fe"
   }
  }
 },
 "nbformat": 4,
 "nbformat_minor": 2
}
